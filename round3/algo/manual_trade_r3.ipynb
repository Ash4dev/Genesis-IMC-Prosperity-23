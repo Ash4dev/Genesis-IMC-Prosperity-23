{
 "cells": [
  {
   "attachments": {},
   "cell_type": "markdown",
   "metadata": {},
   "source": [
    "### Estimating settlement price with ducks"
   ]
  },
  {
   "cell_type": "code",
   "execution_count": 41,
   "metadata": {},
   "outputs": [],
   "source": [
    "price_min_initial = 9000\n",
    "price_max_initial = 11000\n",
    "\n",
    "gap = price_max_initial - price_min_initial\n",
    "\n",
    "expected_min = 0.29\n",
    "expected_max = 0.45"
   ]
  },
  {
   "cell_type": "code",
   "execution_count": 42,
   "metadata": {},
   "outputs": [
    {
     "name": "stdout",
     "output_type": "stream",
     "text": [
      "price_min:9580.0, price_max:9900.0, gap: 2000\n",
      "price_min:9672.8, price_max:9724.0, gap: 320.0\n",
      "price_min:9687.648, price_max:9695.84, gap: 51.20000000000073\n",
      "price_min:9690.02368, price_max:9691.3344, gap: 8.192000000000917\n",
      "price_min:9690.4037888, price_max:9690.613504, gap: 1.3107199999994918\n",
      "price_min:9690.464606208001, price_max:9690.49816064, gap: 0.20971520000057353\n",
      "price_min:9690.47433699328, price_max:9690.4797057024, gap: 0.03355443199870933\n",
      "price_min:9690.475893918925, price_max:9690.476752912384, gap: 0.00536870912037557\n",
      "price_min:9690.476143027028, price_max:9690.476280465982, gap: 0.0008589934586780146\n",
      "price_min:9690.476182884326, price_max:9690.476204874558, gap: 0.00013743895397055894\n"
     ]
    }
   ],
   "source": [
    "\n",
    "for i in range(10):\n",
    "    price_min = price_min_initial + expected_min * gap\n",
    "    price_max = price_min_initial + expected_max * gap\n",
    "    print(f'price_min:{price_min}, price_max:{price_max}, gap: {gap}')\n",
    "    gap = price_max - price_min\n",
    "    price_min_initial = price_min"
   ]
  },
  {
   "attachments": {},
   "cell_type": "markdown",
   "metadata": {},
   "source": [
    "### Estimating median of the initial prices offered"
   ]
  },
  {
   "cell_type": "code",
   "execution_count": 55,
   "metadata": {},
   "outputs": [],
   "source": [
    "price_min_initial = 9000\n",
    "price_max_initial = 11000\n",
    "\n",
    "gap = price_max_initial - price_min_initial\n",
    "\n",
    "expected_min = 0.46\n",
    "expected_max = 0.62"
   ]
  },
  {
   "cell_type": "code",
   "execution_count": 56,
   "metadata": {},
   "outputs": [
    {
     "name": "stdout",
     "output_type": "stream",
     "text": [
      "price_min:9920.0, price_max:10240.0, gap: 2000\n",
      "price_min:10067.2, price_max:10118.4, gap: 320.0\n",
      "price_min:10090.752, price_max:10098.944, gap: 51.19999999999891\n",
      "price_min:10094.52032, price_max:10095.83104, gap: 8.191999999999098\n",
      "price_min:10095.123251199999, price_max:10095.3329664, gap: 1.3107199999994918\n",
      "price_min:10095.219720191999, price_max:10095.253274624, gap: 0.20971520000057353\n",
      "price_min:10095.23515523072, price_max:10095.24052393984, gap: 0.03355443200052832\n",
      "price_min:10095.237624836915, price_max:10095.238483830373, gap: 0.00536870912037557\n",
      "price_min:10095.238019973905, price_max:10095.23815741286, gap: 0.0008589934586780146\n",
      "price_min:10095.238083195823, price_max:10095.238105186058, gap: 0.00013743895397055894\n"
     ]
    }
   ],
   "source": [
    "\n",
    "for i in range(10):\n",
    "    price_min = price_min_initial + expected_min * gap\n",
    "    price_max = price_min_initial + expected_max * gap\n",
    "    print(f'price_min:{price_min}, price_max:{price_max}, gap: {gap}')\n",
    "    gap = price_max - price_min\n",
    "    price_min_initial = price_min"
   ]
  },
  {
   "attachments": {},
   "cell_type": "markdown",
   "metadata": {},
   "source": [
    "### Estimating new settlement price with ducks"
   ]
  },
  {
   "cell_type": "code",
   "execution_count": 39,
   "metadata": {},
   "outputs": [],
   "source": [
    "price_min_initial = 9700\n",
    "price_max_initial = 10099\n",
    "\n",
    "gap = price_max_initial - price_min_initial\n",
    "\n",
    "expected_min = 0.29\n",
    "expected_max = 0.45"
   ]
  },
  {
   "cell_type": "code",
   "execution_count": 40,
   "metadata": {},
   "outputs": [
    {
     "name": "stdout",
     "output_type": "stream",
     "text": [
      "price_min:9815.71, price_max:9879.55, gap: 63.840000000000146\n",
      "price_min:9834.2236, price_max:9844.437999999998, gap: 10.214399999998932\n",
      "price_min:9837.185775999998, price_max:9838.82008, gap: 1.634304000001066\n",
      "price_min:9837.65972416, price_max:9837.921212799998, gap: 0.26148863999878813\n",
      "price_min:9837.735555865598, price_max:9837.777394047998, gap: 0.0418381824001699\n",
      "price_min:9837.747688938494, price_max:9837.754383047679, gap: 0.006694109184536501\n",
      "price_min:9837.749630230157, price_max:9837.750701287627, gap: 0.0010710574697441189\n",
      "price_min:9837.749940836824, price_max:9837.750112206018, gap: 0.00017136919450422283\n",
      "price_min:9837.74999053389, price_max:9837.750017952962, gap: 2.741907155723311e-05\n",
      "price_min:9837.74999848542, price_max:9837.750002872472, gap: 4.3870513763977215e-06\n"
     ]
    }
   ],
   "source": [
    "for i in range(10):\n",
    "    price_min = price_min_initial + expected_min * gap\n",
    "    price_max = price_min_initial + expected_max * gap\n",
    "    print(f'price_min:{price_min}, price_max:{price_max}, gap: {price_max - price_min}')\n",
    "    gap = price_max - price_min\n",
    "    price_min_initial = price_min"
   ]
  },
  {
   "attachments": {},
   "cell_type": "markdown",
   "metadata": {},
   "source": [
    "### Estimating median price for the prices offered"
   ]
  },
  {
   "cell_type": "code",
   "execution_count": 57,
   "metadata": {},
   "outputs": [],
   "source": [
    "price_min_initial = 9700\n",
    "price_max_initial = 10099\n",
    "\n",
    "gap = price_max_initial - price_min_initial\n",
    "\n",
    "expected_min = 0.46\n",
    "expected_max = 0.62"
   ]
  },
  {
   "cell_type": "code",
   "execution_count": 58,
   "metadata": {},
   "outputs": [
    {
     "name": "stdout",
     "output_type": "stream",
     "text": [
      "price_min:9883.54, price_max:9947.38, gap: 399\n",
      "price_min:9912.9064, price_max:9923.1208, gap: 63.83999999999833\n",
      "price_min:9917.605024, price_max:9919.239328, gap: 10.21440000000075\n",
      "price_min:9918.35680384, price_max:9918.61829248, gap: 1.634303999999247\n",
      "price_min:9918.4770886144, price_max:9918.5189267968, gap: 0.26148863999878813\n",
      "price_min:9918.496334178304, price_max:9918.503028287489, gap: 0.0418381824001699\n",
      "price_min:9918.49941346853, price_max:9918.500484526, gap: 0.006694109184536501\n",
      "price_min:9918.499906154966, price_max:9918.50007752416, gap: 0.0010710574697441189\n",
      "price_min:9918.499984984795, price_max:9918.500012403867, gap: 0.00017136919450422283\n",
      "price_min:9918.499997597568, price_max:9918.50000198462, gap: 2.741907155723311e-05\n"
     ]
    }
   ],
   "source": [
    "\n",
    "for i in range(10):\n",
    "    price_min = price_min_initial + expected_min * gap\n",
    "    price_max = price_min_initial + expected_max * gap\n",
    "    print(f'price_min:{price_min}, price_max:{price_max}, gap: {gap}')\n",
    "    gap = price_max - price_min\n",
    "    price_min_initial = price_min\n"
   ]
  }
 ],
 "metadata": {
  "kernelspec": {
   "display_name": "Python 3",
   "language": "python",
   "name": "python3"
  },
  "language_info": {
   "codemirror_mode": {
    "name": "ipython",
    "version": 3
   },
   "file_extension": ".py",
   "mimetype": "text/x-python",
   "name": "python",
   "nbconvert_exporter": "python",
   "pygments_lexer": "ipython3",
   "version": "3.10.6"
  },
  "orig_nbformat": 4
 },
 "nbformat": 4,
 "nbformat_minor": 2
}
